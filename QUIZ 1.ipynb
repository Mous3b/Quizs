{
 "cells": [
  {
   "cell_type": "markdown",
   "metadata": {},
   "source": [
    "# QUIZ\n",
    "Let's test your knowledge!"
   ]
  },
  {
   "cell_type": "markdown",
   "metadata": {},
   "source": [
    "_____\n",
    "**Use <code>for</code>, .split(), and <code>if</code> to create a Statement that will print out words that start with 's':**"
   ]
  },
  {
   "cell_type": "code",
   "execution_count": null,
   "metadata": {},
   "outputs": [],
   "source": [
    "st = 'Print only the words that start with s in this sentence'"
   ]
  },
  {
   "cell_type": "code",
   "execution_count": 107,
   "metadata": {},
   "outputs": [
    {
     "name": "stdout",
     "output_type": "stream",
     "text": [
      "['Print', 'only', 'the', 'words', 'that', 'start', 'with', 's', 'in', 'this', 'sentence']\n",
      "start\n",
      "s\n",
      "sentence\n"
     ]
    }
   ],
   "source": [
    "#Code here\n",
    "st = 'Print only the words that start with s in this sentence'\n",
    "st2=st.split()\n",
    "print(st2)\n",
    "for i in range(len(st2)):\n",
    "        word=st2[i]\n",
    "        if word[0]== \"s\":\n",
    "            print(word)\n",
    "     \n"
   ]
  },
  {
   "cell_type": "markdown",
   "metadata": {},
   "source": [
    "1- i spilted the words and put them in st2\n",
    "2-i used for loop to check all words\n",
    "3-and check every word if it starts with s\n",
    "4-print the word"
   ]
  },
  {
   "cell_type": "markdown",
   "metadata": {},
   "source": [
    "______\n",
    "**Use range() to print all the even numbers from 0 to 10.**"
   ]
  },
  {
   "cell_type": "code",
   "execution_count": 3,
   "metadata": {},
   "outputs": [
    {
     "name": "stdout",
     "output_type": "stream",
     "text": [
      "0\n",
      "2\n",
      "4\n",
      "6\n",
      "8\n",
      "10\n"
     ]
    }
   ],
   "source": [
    "for i in range(0,11):\n",
    "    if i%2==0:\n",
    "        print(i)\n",
    "#i printed even numbers with for loop and if condition to check the number if it is even \n",
    "        \n",
    "    "
   ]
  },
  {
   "cell_type": "markdown",
   "metadata": {},
   "source": [
    "___\n",
    "**Use a List Comprehension to create a list of all numbers between 1 and 50 that are divisible by 3.**"
   ]
  },
  {
   "cell_type": "code",
   "execution_count": 80,
   "metadata": {},
   "outputs": [
    {
     "name": "stdout",
     "output_type": "stream",
     "text": [
      "[0, 3, 6, 9, 12, 15, 18, 21, 24, 27, 30, 33, 36, 39, 42, 45, 48]\n"
     ]
    }
   ],
   "source": [
    "#Code Herem\n",
    "mylist=[]\n",
    "for i in range(0,50) :\n",
    "    if i %3==0:\n",
    "         mylist.append(i)\n",
    "print (mylist)\n",
    "#1- i created empty list \n",
    "#2- entered it by for loop with range 0 to 50\n",
    "#3-checked its number by if con.and if the number is divisible by 3 ,add it to the list by (mylist.append) "
   ]
  },
  {
   "cell_type": "markdown",
   "metadata": {},
   "source": [
    "_____\n",
    "**Go through the string below and if the length of a word is even print \"even!\"**"
   ]
  },
  {
   "cell_type": "code",
   "execution_count": 23,
   "metadata": {},
   "outputs": [],
   "source": [
    "st = 'Print every word in this sentence that has an even number of letters'"
   ]
  },
  {
   "cell_type": "code",
   "execution_count": 114,
   "metadata": {},
   "outputs": [
    {
     "name": "stdout",
     "output_type": "stream",
     "text": [
      "Create 6 even\n",
      "a 1 odd\n",
      "list 4 even\n",
      "of 2 even\n",
      "the 3 odd\n",
      "first 5 odd\n",
      "letters 7 odd\n",
      "of 2 even\n",
      "every 5 odd\n",
      "word 4 even\n",
      "in 2 even\n",
      "this 4 even\n",
      "string 6 even\n"
     ]
    }
   ],
   "source": [
    "#Code in this cell\n",
    "st = 'Create a list of the first letters of every word in this string'\n",
    "st2=st.split()\n",
    "\n",
    "for i in range(len(st2)):\n",
    "    \n",
    "    if len(st2[i])%2==0:\n",
    "        print(st2[i],len(st2[i]),\"even\")\n",
    "    else:\n",
    "        print(st2[i],len(st2[i]),\"odd\")\n",
    "#first i splited the words \n",
    "#i entered them in for loop and check the length of each word if its numbers is even ,print\"even\""
   ]
  },
  {
   "cell_type": "markdown",
   "metadata": {},
   "source": [
    "____\n",
    "**Write a program that prints the integers from 1 to 100. But for multiples of three print \"Fizz\" instead of the number, and for the multiples of five print \"Buzz\". For numbers which are multiples of both three and five print \"FizzBuzz\".**"
   ]
  },
  {
   "cell_type": "code",
   "execution_count": 89,
   "metadata": {},
   "outputs": [
    {
     "name": "stdout",
     "output_type": "stream",
     "text": [
      "1\n",
      "2\n",
      "fizz\n",
      "4\n",
      "buzz\n",
      "fizz\n",
      "7\n",
      "8\n",
      "fizz\n",
      "buzz\n",
      "11\n",
      "fizz\n",
      "13\n",
      "14\n",
      "fizzbuzz\n",
      "16\n",
      "17\n",
      "fizz\n",
      "19\n",
      "buzz\n",
      "fizz\n",
      "22\n",
      "23\n",
      "fizz\n",
      "buzz\n",
      "26\n",
      "fizz\n",
      "28\n",
      "29\n",
      "fizzbuzz\n",
      "31\n",
      "32\n",
      "fizz\n",
      "34\n",
      "buzz\n",
      "fizz\n",
      "37\n",
      "38\n",
      "fizz\n",
      "buzz\n",
      "41\n",
      "fizz\n",
      "43\n",
      "44\n",
      "fizzbuzz\n",
      "46\n",
      "47\n",
      "fizz\n",
      "49\n",
      "buzz\n",
      "fizz\n",
      "52\n",
      "53\n",
      "fizz\n",
      "buzz\n",
      "56\n",
      "fizz\n",
      "58\n",
      "59\n",
      "fizzbuzz\n",
      "61\n",
      "62\n",
      "fizz\n",
      "64\n",
      "buzz\n",
      "fizz\n",
      "67\n",
      "68\n",
      "fizz\n",
      "buzz\n",
      "71\n",
      "fizz\n",
      "73\n",
      "74\n",
      "fizzbuzz\n",
      "76\n",
      "77\n",
      "fizz\n",
      "79\n",
      "buzz\n",
      "fizz\n",
      "82\n",
      "83\n",
      "fizz\n",
      "buzz\n",
      "86\n",
      "fizz\n",
      "88\n",
      "89\n",
      "fizzbuzz\n",
      "91\n",
      "92\n",
      "fizz\n",
      "94\n",
      "buzz\n",
      "fizz\n",
      "97\n",
      "98\n",
      "fizz\n",
      "buzz\n"
     ]
    }
   ],
   "source": [
    "#Code in this cell\n",
    "for x in range(1,101):\n",
    "    if x%3==0 and x%5==0:\n",
    "        print(\"fizzbuzz\")\n",
    "    elif x%5==0:\n",
    "        print(\"buzz\")\n",
    "    elif x%3==0:\n",
    "        print(\"fizz\")\n",
    "    else:\n",
    "        print(x)\n",
    "#first i create for loop with range  1 to 101 to get the range 1 to 100\n",
    "#check the numbers of the range with if , and if the number with multiples of three print \"Fizz\" instead of the number\n",
    "#if the number with multiples of five print \"Buzz\"\n",
    "#if the number with multiples of both three and five print \"FizzBuzz"
   ]
  },
  {
   "cell_type": "markdown",
   "metadata": {},
   "source": [
    "____\n",
    "**Use List Comprehension to create a list of the first letters of every word in the string below:**"
   ]
  },
  {
   "cell_type": "code",
   "execution_count": null,
   "metadata": {},
   "outputs": [],
   "source": [
    "st = 'Create a list of the first letters of every word in this string'"
   ]
  },
  {
   "cell_type": "code",
   "execution_count": 103,
   "metadata": {},
   "outputs": [
    {
     "name": "stdout",
     "output_type": "stream",
     "text": [
      "['Create', 'a', 'list', 'of', 'the', 'first', 'letters', 'of', 'every', 'word', 'in', 'this', 'string']\n",
      "C  Create\n",
      "a  a\n",
      "l  list\n",
      "o  of\n",
      "t  the\n",
      "f  first\n",
      "l  letters\n",
      "o  of\n",
      "e  every\n",
      "w  word\n",
      "i  in\n",
      "t  this\n",
      "s  string\n"
     ]
    }
   ],
   "source": [
    "#Code in this cell\n",
    "st = 'Create a list of the first letters of every word in this string'\n",
    "st2=st.split()\n",
    "print(st2)\n",
    "for i in range(len(st2)):\n",
    "        word=st2[i]\n",
    "        ch=word[0]\n",
    "        print(ch+\" \",word)\n",
    "    \n",
    "#first i split the words , and entered them in for loop \n",
    "#i put every word in variable and take the first letter in it\n",
    "#and print the letter with its first characters\n",
    "    \n",
    "    "
   ]
  },
  {
   "cell_type": "markdown",
   "metadata": {},
   "source": [
    "### Great Job!"
   ]
  }
 ],
 "metadata": {
  "kernelspec": {
   "display_name": "Python 3 (ipykernel)",
   "language": "python",
   "name": "python3"
  },
  "language_info": {
   "codemirror_mode": {
    "name": "ipython",
    "version": 3
   },
   "file_extension": ".py",
   "mimetype": "text/x-python",
   "name": "python",
   "nbconvert_exporter": "python",
   "pygments_lexer": "ipython3",
   "version": "3.9.12"
  }
 },
 "nbformat": 4,
 "nbformat_minor": 4
}
